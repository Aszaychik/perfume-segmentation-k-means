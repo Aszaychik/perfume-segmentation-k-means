{
 "cells": [
  {
   "cell_type": "code",
   "execution_count": 16,
   "id": "1f405690",
   "metadata": {},
   "outputs": [
    {
     "name": "stdout",
     "output_type": "stream",
     "text": [
      "=== Sheet 1 centroids (1st iteration, full precision) ===\n",
      "              usia  nama_parfum_numeric  jeniskelamin_numeric  profesi_numeric\n",
      "cluster                                                                       \n",
      "1        50.750000             1.321429              0.285714         1.678571\n",
      "2        57.833333             1.777778              0.388889         2.444444\n",
      "3        21.511628             1.627907              0.480620         2.930233\n",
      "4        44.000000             1.416667              0.666667         2.416667\n",
      "5        37.533333             1.666667              0.433333         1.766667\n",
      "\n",
      "=== Rounded to 6 decimals (for comparison) ===\n",
      "         usia  nama_parfum_numeric  jeniskelamin_numeric  profesi_numeric\n",
      "cluster                                                                  \n",
      "1        51.0                  1.0                   0.0              2.0\n",
      "2        58.0                  2.0                   0.0              2.0\n",
      "3        22.0                  2.0                   0.0              3.0\n",
      "4        44.0                  1.0                   1.0              2.0\n",
      "5        38.0                  2.0                   0.0              2.0\n"
     ]
    }
   ],
   "source": [
    "import pandas as pd\n",
    "import numpy as np\n",
    "\n",
    "# Load Sheet1 of the uploaded Excel file containing the 217×4 numeric table\n",
    "df_numeric = pd.read_excel('data_numeric.xlsx', sheet_name='Sheet1', usecols=\"B:E\")\n",
    "# Ensure columns match: usia, Nama parfum_numeric, jeniskelamin_numeric, profesi_numeric\n",
    "df_numeric.columns = ['age', 'perfume_id', 'gender', 'profession_id']\n",
    "\n",
    "# Add an 'id' column from Excel row numbers 1–217\n",
    "df_numeric['id'] = np.arange(1, len(df_numeric) + 1)\n",
    "\n",
    "# Extract features array and pick initial centroids from IDs 5,10,15,20,25\n",
    "features = ['age', 'perfume_id', 'gender', 'profession_id']\n",
    "X = df_numeric[features].to_numpy()  # shape (217,4)\n",
    "\n",
    "initial_ids = [5, 10, 15, 20, 25]\n",
    "centroids = (\n",
    "    df_numeric.set_index('id')\n",
    "              .loc[initial_ids, features]\n",
    "              .to_numpy()\n",
    ")\n",
    "\n",
    "# Compute one-iteration distances as in your Excel: abs(sum of signed diffs)\n",
    "raw_diffs = (X[:, None, :] - centroids[None, :, :]).sum(axis=2)\n",
    "dists    = np.abs(raw_diffs)\n",
    "\n",
    "# Assign each record to nearest cluster\n",
    "labels = np.argmin(dists, axis=1) + 1\n",
    "\n",
    "# Compute the new centroids (first pass) by averaging the 217 records\n",
    "df_numeric['cluster'] = labels\n",
    "means = df_numeric.groupby('cluster')[features].mean().rename(columns={\n",
    "    'age': 'usia',\n",
    "    'perfume_id': 'nama_parfum_numeric',\n",
    "    'gender': 'jeniskelamin_numeric',\n",
    "    'profession_id': 'profesi_numeric'\n",
    "})\n",
    "\n",
    "# Display exactly your Sheet 1 results\n",
    "print(\"=== Sheet 1 centroids (1st iteration, full precision) ===\")\n",
    "print(means)\n",
    "\n",
    "print(\"\\n=== Rounded to 6 decimals (for comparison) ===\")\n",
    "print(means.round())"
   ]
  },
  {
   "cell_type": "code",
   "execution_count": null,
   "id": "1be3191a",
   "metadata": {},
   "outputs": [],
   "source": []
  },
  {
   "cell_type": "code",
   "execution_count": null,
   "id": "d4eee47f",
   "metadata": {},
   "outputs": [],
   "source": []
  }
 ],
 "metadata": {
  "kernelspec": {
   "display_name": "venv",
   "language": "python",
   "name": "python3"
  },
  "language_info": {
   "codemirror_mode": {
    "name": "ipython",
    "version": 3
   },
   "file_extension": ".py",
   "mimetype": "text/x-python",
   "name": "python",
   "nbconvert_exporter": "python",
   "pygments_lexer": "ipython3",
   "version": "3.12.3"
  }
 },
 "nbformat": 4,
 "nbformat_minor": 5
}

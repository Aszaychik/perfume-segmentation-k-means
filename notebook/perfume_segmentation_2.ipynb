{
 "cells": [
  {
   "cell_type": "code",
   "execution_count": 31,
   "id": "1f405690",
   "metadata": {},
   "outputs": [
    {
     "name": "stdout",
     "output_type": "stream",
     "text": [
      "=== Result ===\n",
      "              usia  nama_parfum_numeric  jeniskelamin_numeric  profesi_numeric\n",
      "cluster                                                                       \n",
      "1        50.750000             1.321429              0.285714         1.678571\n",
      "2        57.833333             1.777778              0.388889         2.444444\n",
      "3        21.511628             1.627907              0.480620         2.930233\n",
      "4        44.000000             1.416667              0.666667         2.416667\n",
      "5        37.533333             1.666667              0.433333         1.766667\n",
      "\n",
      "=== Rounded (no decimals) ===\n",
      "         usia  nama_parfum_numeric  jeniskelamin_numeric  profesi_numeric\n",
      "cluster                                                                  \n",
      "1          51                    1                     0                2\n",
      "2          58                    2                     0                2\n",
      "3          22                    2                     0                3\n",
      "4          44                    1                     1                2\n",
      "5          38                    2                     0                2\n"
     ]
    }
   ],
   "source": [
    "import pandas as pd\n",
    "import numpy as np\n",
    "\n",
    "# Load Sheet1 of the uploaded Excel file containing the 217×4 numeric table\n",
    "df_numeric = pd.read_excel('data_numeric.xlsx', sheet_name='Sheet1', usecols=\"B:E\")\n",
    "df_numeric.columns = ['age', 'perfume_id', 'gender', 'profession_id']\n",
    "df_numeric['id'] = np.arange(1, len(df_numeric) + 1)\n",
    "\n",
    "features = ['age', 'perfume_id', 'gender', 'profession_id']\n",
    "X = df_numeric[features].to_numpy()\n",
    "\n",
    "initial_ids = [5, 10, 15, 20, 25]\n",
    "# Select initial centroids based on initial_ids\n",
    "centroids = (\n",
    "    df_numeric.set_index('id')\n",
    "              .loc[initial_ids, features]\n",
    "              .to_numpy()\n",
    ")\n",
    "\n",
    "# Run one iteration of custom centroid update and assignment\n",
    "for _ in range(1):\n",
    "    # Calculate raw differences between each point and each centroid\n",
    "    raw_diffs = (X[:, None, :] - centroids[None, :, :]).sum(axis=2)\n",
    "    # Take absolute value to get distances\n",
    "    dists = np.abs(raw_diffs)\n",
    "    # Assign each point to the nearest centroid (cluster label)\n",
    "    labels = np.argmin(dists, axis=1) + 1\n",
    "    df_numeric['cluster'] = labels\n",
    "    # Update centroids as the mean of assigned points\n",
    "    centroids = df_numeric.groupby('cluster')[features].mean().reindex(range(1, 6)).to_numpy()\n",
    "\n",
    "# Calculate means for each cluster and rename columns for output\n",
    "means = df_numeric.groupby('cluster')[features].mean().rename(columns={\n",
    "    'age': 'usia',\n",
    "    'perfume_id': 'nama_parfum_numeric',\n",
    "    'gender': 'jeniskelamin_numeric',\n",
    "    'profession_id': 'profesi_numeric'\n",
    "})\n",
    "\n",
    "print(\"=== Result ===\")\n",
    "print(means)\n",
    "print(\"\\n=== Rounded (no decimals) ===\")\n",
    "print(means.round(0).astype(int))\n"
   ]
  }
 ],
 "metadata": {
  "kernelspec": {
   "display_name": "venv",
   "language": "python",
   "name": "python3"
  },
  "language_info": {
   "codemirror_mode": {
    "name": "ipython",
    "version": 3
   },
   "file_extension": ".py",
   "mimetype": "text/x-python",
   "name": "python",
   "nbconvert_exporter": "python",
   "pygments_lexer": "ipython3",
   "version": "3.12.3"
  }
 },
 "nbformat": 4,
 "nbformat_minor": 5
}

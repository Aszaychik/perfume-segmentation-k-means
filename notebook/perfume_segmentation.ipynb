{
 "cells": [
  {
   "cell_type": "markdown",
   "metadata": {},
   "source": [
    "# Perfume Segmentation K-Means"
   ]
  },
  {
   "cell_type": "markdown",
   "metadata": {},
   "source": [
    "## Import libraries"
   ]
  },
  {
   "cell_type": "code",
   "execution_count": 102,
   "metadata": {},
   "outputs": [
    {
     "data": {
      "text/plain": [
       "True"
      ]
     },
     "execution_count": 102,
     "metadata": {},
     "output_type": "execute_result"
    }
   ],
   "source": [
    "# Import libraries\n",
    "import pandas as pd\n",
    "from sqlalchemy import create_engine\n",
    "from dotenv import load_dotenv\n",
    "import os\n",
    "\n",
    "load_dotenv()"
   ]
  },
  {
   "cell_type": "markdown",
   "metadata": {},
   "source": [
    "## Setup Database"
   ]
  },
  {
   "cell_type": "code",
   "execution_count": 103,
   "metadata": {},
   "outputs": [],
   "source": [
    "# Read database configuration from environment variables\n",
    "database_config = {\n",
    "  'hostname': os.getenv('DB_HOSTNAME'),\n",
    "  'port': os.getenv('DB_PORT'),\n",
    "  'username': os.getenv('DB_USERNAME'),\n",
    "  'password': os.getenv('DB_PASSWORD'),\n",
    "  'database': os.getenv('DB_DATABASE')\n",
    "}"
   ]
  },
  {
   "cell_type": "code",
   "execution_count": 104,
   "metadata": {},
   "outputs": [
    {
     "name": "stdout",
     "output_type": "stream",
     "text": [
      "Connection String: mysql+pymysql://root:@10.2.18.133:3306/perfume_segmentation\n"
     ]
    }
   ],
   "source": [
    "# Create a connection to the database\n",
    "connection_str = f\"mysql+pymysql://{database_config['username']}:{database_config['password']}@{database_config['hostname']}:{database_config['port']}/{database_config['database']}\"\n",
    "print(\"Connection String:\", connection_str)  # Debug the connection string\n",
    "engine = create_engine(connection_str)"
   ]
  },
  {
   "cell_type": "code",
   "execution_count": 109,
   "metadata": {},
   "outputs": [
    {
     "data": {
      "text/html": [
       "<div>\n",
       "<style scoped>\n",
       "    .dataframe tbody tr th:only-of-type {\n",
       "        vertical-align: middle;\n",
       "    }\n",
       "\n",
       "    .dataframe tbody tr th {\n",
       "        vertical-align: top;\n",
       "    }\n",
       "\n",
       "    .dataframe thead th {\n",
       "        text-align: right;\n",
       "    }\n",
       "</style>\n",
       "<table border=\"1\" class=\"dataframe\">\n",
       "  <thead>\n",
       "    <tr style=\"text-align: right;\">\n",
       "      <th></th>\n",
       "      <th>id</th>\n",
       "      <th>age</th>\n",
       "      <th>gender</th>\n",
       "      <th>profession_id</th>\n",
       "      <th>perfume_id</th>\n",
       "      <th>perfume_name</th>\n",
       "      <th>profession_name</th>\n",
       "    </tr>\n",
       "  </thead>\n",
       "  <tbody>\n",
       "    <tr>\n",
       "      <th>0</th>\n",
       "      <td>1</td>\n",
       "      <td>54</td>\n",
       "      <td>0</td>\n",
       "      <td>0</td>\n",
       "      <td>0</td>\n",
       "      <td>Bacarat</td>\n",
       "      <td>Ibu Rumah Tangga</td>\n",
       "    </tr>\n",
       "    <tr>\n",
       "      <th>1</th>\n",
       "      <td>2</td>\n",
       "      <td>49</td>\n",
       "      <td>0</td>\n",
       "      <td>0</td>\n",
       "      <td>1</td>\n",
       "      <td>D&amp;G</td>\n",
       "      <td>Ibu Rumah Tangga</td>\n",
       "    </tr>\n",
       "    <tr>\n",
       "      <th>2</th>\n",
       "      <td>3</td>\n",
       "      <td>26</td>\n",
       "      <td>0</td>\n",
       "      <td>1</td>\n",
       "      <td>2</td>\n",
       "      <td>Paris Hilton</td>\n",
       "      <td>Pegawai Negeri</td>\n",
       "    </tr>\n",
       "    <tr>\n",
       "      <th>3</th>\n",
       "      <td>4</td>\n",
       "      <td>40</td>\n",
       "      <td>0</td>\n",
       "      <td>2</td>\n",
       "      <td>1</td>\n",
       "      <td>D&amp;G</td>\n",
       "      <td>Karyawan</td>\n",
       "    </tr>\n",
       "    <tr>\n",
       "      <th>4</th>\n",
       "      <td>5</td>\n",
       "      <td>52</td>\n",
       "      <td>0</td>\n",
       "      <td>2</td>\n",
       "      <td>0</td>\n",
       "      <td>Bacarat</td>\n",
       "      <td>Karyawan</td>\n",
       "    </tr>\n",
       "  </tbody>\n",
       "</table>\n",
       "</div>"
      ],
      "text/plain": [
       "   id  age  gender  profession_id  perfume_id  perfume_name   profession_name\n",
       "0   1   54       0              0           0       Bacarat  Ibu Rumah Tangga\n",
       "1   2   49       0              0           1           D&G  Ibu Rumah Tangga\n",
       "2   3   26       0              1           2  Paris Hilton    Pegawai Negeri\n",
       "3   4   40       0              2           1           D&G          Karyawan\n",
       "4   5   52       0              2           0       Bacarat          Karyawan"
      ]
     },
     "execution_count": 109,
     "metadata": {},
     "output_type": "execute_result"
    }
   ],
   "source": [
    "# Load perfumes table\n",
    "query = \"\"\"\n",
    "SELECT\n",
    "    s.id,\n",
    "    s.age,\n",
    "    s.gender,\n",
    "    s.profession_id,\n",
    "    s.perfume_id,\n",
    "    p.name AS perfume_name,\n",
    "    pr.name AS profession_name\n",
    "FROM sales AS s\n",
    "LEFT JOIN perfumes AS p ON s.perfume_id = p.id\n",
    "LEFT JOIN professions AS pr ON s.profession_id = pr.id\n",
    "\"\"\"\n",
    "df_sales = pd.read_sql(query, engine)\n",
    "\n",
    "df_sales.head()\n"
   ]
  },
  {
   "cell_type": "markdown",
   "metadata": {},
   "source": []
  }
 ],
 "metadata": {
  "kernelspec": {
   "display_name": "venv",
   "language": "python",
   "name": "python3"
  },
  "language_info": {
   "codemirror_mode": {
    "name": "ipython",
    "version": 3
   },
   "file_extension": ".py",
   "mimetype": "text/x-python",
   "name": "python",
   "nbconvert_exporter": "python",
   "pygments_lexer": "ipython3",
   "version": "3.12.3"
  }
 },
 "nbformat": 4,
 "nbformat_minor": 2
}
